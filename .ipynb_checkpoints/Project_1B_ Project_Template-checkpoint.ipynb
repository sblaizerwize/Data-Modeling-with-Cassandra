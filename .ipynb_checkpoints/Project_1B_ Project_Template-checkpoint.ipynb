{
 "cells": [
  {
   "cell_type": "markdown",
   "metadata": {},
   "source": [
    "# Data Modeling with Cassandra"
   ]
  },
  {
   "cell_type": "markdown",
   "metadata": {},
   "source": [
    "---"
   ]
  },
  {
   "cell_type": "markdown",
   "metadata": {},
   "source": [
    "# Part I. ETL Pipeline for Pre-Processing Source Files"
   ]
  },
  {
   "cell_type": "markdown",
   "metadata": {},
   "source": [
    "#### Import Python packages "
   ]
  },
  {
   "cell_type": "code",
   "execution_count": 1,
   "metadata": {},
   "outputs": [
    {
     "name": "stdout",
     "output_type": "stream",
     "text": [
      "Requirement already satisfied: cassandra-driver in /opt/anaconda3/lib/python3.8/site-packages (3.24.0)\n",
      "Requirement already satisfied: six>=1.9 in /opt/anaconda3/lib/python3.8/site-packages (from cassandra-driver) (1.15.0)\n",
      "Requirement already satisfied: geomet<0.3,>=0.1 in /opt/anaconda3/lib/python3.8/site-packages (from cassandra-driver) (0.2.1.post1)\n",
      "Requirement already satisfied: click in /opt/anaconda3/lib/python3.8/site-packages (from geomet<0.3,>=0.1->cassandra-driver) (7.1.2)\n"
     ]
    }
   ],
   "source": [
    "!pip install cassandra-driver"
   ]
  },
  {
   "cell_type": "code",
   "execution_count": 2,
   "metadata": {},
   "outputs": [],
   "source": [
    "import pandas as pd\n",
    "import re\n",
    "import os\n",
    "import glob\n",
    "import numpy as np\n",
    "import json\n",
    "import csv"
   ]
  },
  {
   "cell_type": "code",
   "execution_count": 3,
   "metadata": {},
   "outputs": [],
   "source": [
    "import cassandra"
   ]
  },
  {
   "cell_type": "markdown",
   "metadata": {},
   "source": [
    "#### Creating list of filepaths to process original event csv data files"
   ]
  },
  {
   "cell_type": "code",
   "execution_count": 4,
   "metadata": {},
   "outputs": [
    {
     "name": "stdout",
     "output_type": "stream",
     "text": [
      "/Users/salomon.marquez/DATA ENGINEER PATH/NanoDegree Udacity/PROJECT 2\n",
      "/Users/salomon.marquez/DATA ENGINEER PATH/NanoDegree Udacity/PROJECT 2/event_data\n",
      "['/Users/salomon.marquez/DATA ENGINEER PATH/NanoDegree Udacity/PROJECT 2/event_data/2018-11-15-events.csv', '/Users/salomon.marquez/DATA ENGINEER PATH/NanoDegree Udacity/PROJECT 2/event_data/2018-11-22-events.csv', '/Users/salomon.marquez/DATA ENGINEER PATH/NanoDegree Udacity/PROJECT 2/event_data/2018-11-09-events.csv', '/Users/salomon.marquez/DATA ENGINEER PATH/NanoDegree Udacity/PROJECT 2/event_data/2018-11-18-events.csv', '/Users/salomon.marquez/DATA ENGINEER PATH/NanoDegree Udacity/PROJECT 2/event_data/2018-11-04-events.csv', '/Users/salomon.marquez/DATA ENGINEER PATH/NanoDegree Udacity/PROJECT 2/event_data/2018-11-01-events.csv', '/Users/salomon.marquez/DATA ENGINEER PATH/NanoDegree Udacity/PROJECT 2/event_data/2018-11-27-events.csv', '/Users/salomon.marquez/DATA ENGINEER PATH/NanoDegree Udacity/PROJECT 2/event_data/2018-11-10-events.csv', '/Users/salomon.marquez/DATA ENGINEER PATH/NanoDegree Udacity/PROJECT 2/event_data/2018-11-20-events.csv', '/Users/salomon.marquez/DATA ENGINEER PATH/NanoDegree Udacity/PROJECT 2/event_data/2018-11-17-events.csv', '/Users/salomon.marquez/DATA ENGINEER PATH/NanoDegree Udacity/PROJECT 2/event_data/2018-11-06-events.csv', '/Users/salomon.marquez/DATA ENGINEER PATH/NanoDegree Udacity/PROJECT 2/event_data/2018-11-03-events.csv', '/Users/salomon.marquez/DATA ENGINEER PATH/NanoDegree Udacity/PROJECT 2/event_data/2018-11-28-events.csv', '/Users/salomon.marquez/DATA ENGINEER PATH/NanoDegree Udacity/PROJECT 2/event_data/2018-11-12-events.csv', '/Users/salomon.marquez/DATA ENGINEER PATH/NanoDegree Udacity/PROJECT 2/event_data/2018-11-25-events.csv', '/Users/salomon.marquez/DATA ENGINEER PATH/NanoDegree Udacity/PROJECT 2/event_data/2018-11-26-events.csv', '/Users/salomon.marquez/DATA ENGINEER PATH/NanoDegree Udacity/PROJECT 2/event_data/2018-11-11-events.csv', '/Users/salomon.marquez/DATA ENGINEER PATH/NanoDegree Udacity/PROJECT 2/event_data/2018-11-14-events.csv', '/Users/salomon.marquez/DATA ENGINEER PATH/NanoDegree Udacity/PROJECT 2/event_data/2018-11-23-events.csv', '/Users/salomon.marquez/DATA ENGINEER PATH/NanoDegree Udacity/PROJECT 2/event_data/2018-11-08-events.csv', '/Users/salomon.marquez/DATA ENGINEER PATH/NanoDegree Udacity/PROJECT 2/event_data/2018-11-19-events.csv', '/Users/salomon.marquez/DATA ENGINEER PATH/NanoDegree Udacity/PROJECT 2/event_data/2018-11-05-events.csv', '/Users/salomon.marquez/DATA ENGINEER PATH/NanoDegree Udacity/PROJECT 2/event_data/2018-11-02-events.csv', '/Users/salomon.marquez/DATA ENGINEER PATH/NanoDegree Udacity/PROJECT 2/event_data/2018-11-29-events.csv', '/Users/salomon.marquez/DATA ENGINEER PATH/NanoDegree Udacity/PROJECT 2/event_data/2018-11-13-events.csv', '/Users/salomon.marquez/DATA ENGINEER PATH/NanoDegree Udacity/PROJECT 2/event_data/2018-11-24-events.csv', '/Users/salomon.marquez/DATA ENGINEER PATH/NanoDegree Udacity/PROJECT 2/event_data/2018-11-21-events.csv', '/Users/salomon.marquez/DATA ENGINEER PATH/NanoDegree Udacity/PROJECT 2/event_data/2018-11-16-events.csv', '/Users/salomon.marquez/DATA ENGINEER PATH/NanoDegree Udacity/PROJECT 2/event_data/2018-11-07-events.csv', '/Users/salomon.marquez/DATA ENGINEER PATH/NanoDegree Udacity/PROJECT 2/event_data/2018-11-30-events.csv']\n"
     ]
    }
   ],
   "source": [
    "# checking your current working directory\n",
    "print(os.getcwd())\n",
    "\n",
    "# Get your current folder and subfolder event data\n",
    "filepath = os.getcwd() + '/event_data'\n",
    "print(filepath)\n",
    "\n",
    "# Create a for loop to create a list of files and collect each filepath\n",
    "file_path_list = glob.glob(os.path.join(filepath,'*'))\n",
    "print(file_path_list)"
   ]
  },
  {
   "cell_type": "code",
   "execution_count": 5,
   "metadata": {},
   "outputs": [
    {
     "data": {
      "text/plain": [
       "30"
      ]
     },
     "execution_count": 5,
     "metadata": {},
     "output_type": "execute_result"
    }
   ],
   "source": [
    "# Number of files to be processed\n",
    "len(file_path_list)"
   ]
  },
  {
   "cell_type": "markdown",
   "metadata": {},
   "source": [
    "#### Processing the files to create the data file csv that will be used for Apache Casssandra tables"
   ]
  },
  {
   "cell_type": "code",
   "execution_count": 6,
   "metadata": {},
   "outputs": [],
   "source": [
    "# initiating an empty list of rows that will be generated from each file\n",
    "full_data_rows_list = [] \n",
    "    \n",
    "# for every filepath in the file path list \n",
    "for f in file_path_list:\n",
    "\n",
    "# reading csv file \n",
    "    with open(f, 'r', encoding = 'utf8', newline='') as csvfile: \n",
    "        # creating a csv reader object \n",
    "        csvreader = csv.reader(csvfile) \n",
    "        next(csvreader)\n",
    "        \n",
    " # extracting each data row one by one and append it        \n",
    "        for line in csvreader:\n",
    "            ## print(line)\n",
    "            full_data_rows_list.append(line) \n",
    "            \n",
    "# uncomment the code below if you would like to get total number of rows \n",
    "# print(len(full_data_rows_list))\n",
    "# uncomment the code below if you would like to check to see what the list of event data rows will look like\n",
    "# print(full_data_rows_list[0])\n",
    "\n",
    "# creating a smaller event data csv file called event_datafile_full csv that will be used to insert data into the \\\n",
    "# Apache Cassandra tables\n",
    "csv.register_dialect('myDialect', quoting=csv.QUOTE_ALL, skipinitialspace=True)\n",
    "\n",
    "with open('event_datafile_new.csv', 'w', encoding = 'utf8', newline='') as f:\n",
    "    writer = csv.writer(f, dialect='myDialect')\n",
    "    writer.writerow(['artist','firstName','gender','itemInSession','lastName','length',\\\n",
    "                'level','location','sessionId','song','userId'])\n",
    "    for row in full_data_rows_list:\n",
    "        if (row[0] == ''):\n",
    "            continue\n",
    "        writer.writerow((row[0], row[2], row[3], row[4], row[5], row[6], row[7], row[8], row[12], row[13], row[16]))"
   ]
  },
  {
   "cell_type": "code",
   "execution_count": 7,
   "metadata": {},
   "outputs": [
    {
     "name": "stdout",
     "output_type": "stream",
     "text": [
      "6821\n"
     ]
    }
   ],
   "source": [
    "# check the number of rows in your csv file to be processed\n",
    "with open('event_datafile_new.csv', 'r', encoding = 'utf8') as f:\n",
    "    print(sum(1 for line in f))"
   ]
  },
  {
   "cell_type": "markdown",
   "metadata": {},
   "source": [
    "The image below is a screenshot of what the denormalized data should appear like in the <font color=red>**event_datafile_new.csv**</font> after the code above is run:<br>\n",
    "\n",
    "<img src=\"images/image_event_datafile_new.jpg\">"
   ]
  },
  {
   "cell_type": "markdown",
   "metadata": {},
   "source": [
    "---"
   ]
  },
  {
   "cell_type": "markdown",
   "metadata": {},
   "source": [
    "# Part II. Create Apache Cassandra tables for querying data \n",
    "\n",
    "In this section you, \n",
    "\n",
    "- Create an Apache Cassandra cluster and keyspace\n",
    "- Set keyspace\n",
    "- Create tables based on specific queries\n",
    "- Validate your data model querying data"
   ]
  },
  {
   "cell_type": "markdown",
   "metadata": {},
   "source": [
    "#### Creating a Cluster"
   ]
  },
  {
   "cell_type": "code",
   "execution_count": 9,
   "metadata": {},
   "outputs": [],
   "source": [
    "# This should make a connection to a Cassandra instance your local machine \n",
    "\n",
    "from cassandra.cluster import Cluster\n",
    "cluster = Cluster()\n",
    "\n",
    "# To establish connection and begin executing queries, need a session\n",
    "session = cluster.connect()"
   ]
  },
  {
   "cell_type": "markdown",
   "metadata": {},
   "source": [
    "#### Create Keyspace"
   ]
  },
  {
   "cell_type": "code",
   "execution_count": 10,
   "metadata": {},
   "outputs": [],
   "source": [
    "# TO-DO: Create a Keyspace \n",
    "try:\n",
    "    session.execute(\"\"\" \n",
    "    CREATE KEYSPACE IF NOT EXISTS udacity\n",
    "    WITH REPLICATION =\n",
    "    {'class' : 'SimpleStrategy', 'replication_factor' : 1}\"\"\"\n",
    ")\n",
    "\n",
    "except Exception as e:\n",
    "    print(e)"
   ]
  },
  {
   "cell_type": "markdown",
   "metadata": {},
   "source": [
    "#### Set Keyspace"
   ]
  },
  {
   "cell_type": "code",
   "execution_count": 11,
   "metadata": {},
   "outputs": [],
   "source": [
    "# TO-DO: Set KEYSPACE to the keyspace specified above\n",
    "try:\n",
    "    session.set_keyspace('udacity')\n",
    "except Exception as e:\n",
    "    print(e)"
   ]
  },
  {
   "cell_type": "markdown",
   "metadata": {},
   "source": [
    "### Query 1\n",
    "\n",
    "Give me the artist, song title and song's length in the music app history that was heard during  sessionId = 338, and itemInSession  = 4\n",
    "\n",
    "```\n",
    "SELECT artist_name, song_title, song_len FROM song_playlist WHERE session_id=338 AND item_in_session=4;\n",
    "```"
   ]
  },
  {
   "cell_type": "markdown",
   "metadata": {},
   "source": [
    "#### Create table\n",
    "Table **song_playlist** uses a **COMPOSITE PRIMARY KEY**. Columns **session_id** and **item_in_session** integrate the **PARTITION KEY**. By using this KEY, session_id establishes a ONE to MANY relationship with item_in_session. As a result, it is more straightforward to look for a particular item_in_session element in a given session_id. "
   ]
  },
  {
   "cell_type": "code",
   "execution_count": 12,
   "metadata": {},
   "outputs": [],
   "source": [
    "try:\n",
    "    session.execute(\"\"\"\n",
    "    CREATE TABLE IF NOT EXISTS song_playlist (\n",
    "    session_id INT, \n",
    "    item_in_session INT, \n",
    "    artist_name TEXT, \n",
    "    song_title TEXT, \n",
    "    song_len FLOAT,\n",
    "    PRIMARY KEY(session_id, item_in_session));\"\"\")\n",
    "\n",
    "except Exception as e:\n",
    "    print(e)"
   ]
  },
  {
   "cell_type": "markdown",
   "metadata": {},
   "source": [
    "#### Insert data"
   ]
  },
  {
   "cell_type": "code",
   "execution_count": 13,
   "metadata": {},
   "outputs": [],
   "source": [
    "file = 'event_datafile_new.csv'\n",
    "\n",
    "with open(file, encoding = 'utf8') as f:\n",
    "    csvreader = csv.reader(f)\n",
    "    next(csvreader) # skip header\n",
    "    for line in csvreader:\n",
    "        query = \"INSERT INTO song_playlist (session_id, item_in_session, artist_name, song_title, song_len) \"\n",
    "        query = query + \"VALUES(%s, %s, %s, %s, %s);\"\n",
    "        session.execute(query, (int(line[8]), int(line[3]), line[0], line[9], float(line[5])))"
   ]
  },
  {
   "cell_type": "markdown",
   "metadata": {},
   "source": [
    "#### Do a SELECT to verify that the data have been inserted into each table"
   ]
  },
  {
   "cell_type": "code",
   "execution_count": 14,
   "metadata": {},
   "outputs": [
    {
     "name": "stdout",
     "output_type": "stream",
     "text": [
      "Faithless Music Matters (Mark Knight Dub) 495.30731201171875\n"
     ]
    }
   ],
   "source": [
    "try:\n",
    "    rows = session.execute(\"\"\"\n",
    "    SELECT \n",
    "    artist_name,\n",
    "    song_title,\n",
    "    song_len\n",
    "    FROM song_playlist\n",
    "    WHERE session_id=338 AND item_in_session = 4;\"\"\")\n",
    "except Exception as e:\n",
    "    print(e)\n",
    "    \n",
    "for row in rows:\n",
    "    print(row.artist_name, row.song_title, row.song_len)"
   ]
  },
  {
   "cell_type": "markdown",
   "metadata": {},
   "source": [
    "### Query 2\n",
    "Give me only the following: name of artist, song (sorted by itemInSession) and user (first and last name) for userid = 10, sessionid = 182\n",
    "\n",
    "```\n",
    "SELECT artist_name, song_title, user_firstname, user_lastname FROM user_playlist WHERE user_id=10 AND sessionid=182 ORDER BY item_in_session ASC;\n",
    "```"
   ]
  },
  {
   "cell_type": "markdown",
   "metadata": {},
   "source": [
    "#### Create table\n",
    "Table **user_playlist** uses a **COMPOSITE PRIMARY KEY**. Columns **session_id** and **item_in_session** integrate the **PARTITION KEY** and column **item_in_session** the **CLUSTERING KEY**. By using this COMPOSITE KEY, user_id establishes a ONE to MANY relationship with session_id enabling item_in_session to sorting data. This means that you can look for any playlist from a given user and sort the listened songs in that playlist."
   ]
  },
  {
   "cell_type": "code",
   "execution_count": 15,
   "metadata": {},
   "outputs": [],
   "source": [
    "try:\n",
    "    session.execute(\"\"\"\n",
    "    CREATE TABLE IF NOT EXISTS user_playlist (\n",
    "    user_id INT, \n",
    "    session_id INT, \n",
    "    item_in_session INT,\n",
    "    artist_name TEXT, \n",
    "    song_title TEXT, \n",
    "    user_firstname TEXT,\n",
    "    user_lastname TEXT,\n",
    "    PRIMARY KEY((user_id, session_id), item_in_session));\"\"\")\n",
    "\n",
    "except Exception as e:\n",
    "    print(e)                    "
   ]
  },
  {
   "cell_type": "markdown",
   "metadata": {},
   "source": [
    "#### Insert data"
   ]
  },
  {
   "cell_type": "code",
   "execution_count": 16,
   "metadata": {},
   "outputs": [],
   "source": [
    "file = 'event_datafile_new.csv'\n",
    "\n",
    "with open(file, encoding = 'utf8') as f:\n",
    "    csvreader = csv.reader(f)\n",
    "    next(csvreader) # skip header\n",
    "    for line in csvreader:\n",
    "        query = \"INSERT INTO user_playlist (user_id, session_id, item_in_session, artist_name, song_title, user_firstname, user_lastname) \"\n",
    "        query = query + \"VALUES(%s, %s, %s, %s, %s, %s, %s);\"\n",
    "        session.execute(query, (int(line[10]), int(line[8]), int(line[3]), line[0], line[9], line[1], line[4]))"
   ]
  },
  {
   "cell_type": "markdown",
   "metadata": {},
   "source": [
    "#### Do a SELECT to verify that the data have been inserted into each table"
   ]
  },
  {
   "cell_type": "code",
   "execution_count": 17,
   "metadata": {},
   "outputs": [
    {
     "name": "stdout",
     "output_type": "stream",
     "text": [
      "Down To The Bone Keep On Keepin' On Sylvie Cruz\n",
      "Three Drives Greece 2000 Sylvie Cruz\n",
      "Sebastien Tellier Kilometer Sylvie Cruz\n",
      "Lonnie Gordon Catch You Baby (Steve Pitron & Max Sanna Radio Edit) Sylvie Cruz\n"
     ]
    }
   ],
   "source": [
    "try:\n",
    "    rows = session.execute(\"\"\"\n",
    "    SELECT \n",
    "    artist_name,\n",
    "    song_title, \n",
    "    user_firstname,\n",
    "    user_lastname\n",
    "    FROM user_playlist\n",
    "    WHERE user_id=10 AND session_id=182\n",
    "    ORDER BY item_in_session ASC;\"\"\")\n",
    "except Exception as e:\n",
    "    print(e)\n",
    "    \n",
    "for row in rows:\n",
    "    print(row.artist_name, row.song_title, row.user_firstname, row.user_lastname)"
   ]
  },
  {
   "cell_type": "markdown",
   "metadata": {},
   "source": [
    "### Query 3 \n",
    "Give me every user name (first and last) in my music app history who listened to the song 'All Hands Against His Own'\n",
    "\n",
    "```\n",
    "SELECT user_id, item_in_session, user_firstname, user_lastname, song_title FROM song_listeners WHERE song_title='All Hands Against His Own';\n",
    "```"
   ]
  },
  {
   "cell_type": "markdown",
   "metadata": {},
   "source": [
    "#### Create table\n",
    "Table **song_listeners** uses a **COMPOSITE PRIMARY KEY**. Columns **song_title** and **user_id** integrate the **PARTITION KEY**. By using this KEY, song_title establishes a MANY to ONE relationship with user_id. As a result, it is more straightforward to look for a particular song_title element from user_id. "
   ]
  },
  {
   "cell_type": "code",
   "execution_count": 18,
   "metadata": {},
   "outputs": [],
   "source": [
    "try:\n",
    "    session.execute(\"\"\"\n",
    "    CREATE TABLE IF NOT EXISTS song_listeners (\n",
    "    song_title TEXT, \n",
    "    user_id INT,\n",
    "    user_firstname TEXT,\n",
    "    user_lastname TEXT,\n",
    "    PRIMARY KEY(song_title, user_id));\"\"\")\n",
    "except Exception as e:\n",
    "    print(e)"
   ]
  },
  {
   "cell_type": "markdown",
   "metadata": {},
   "source": [
    "#### Insert data"
   ]
  },
  {
   "cell_type": "code",
   "execution_count": 19,
   "metadata": {},
   "outputs": [],
   "source": [
    "file = 'event_datafile_new.csv'\n",
    "\n",
    "with open(file, encoding = 'utf8') as f:\n",
    "    csvreader = csv.reader(f)\n",
    "    next(csvreader) # skip header\n",
    "    for line in csvreader:\n",
    "        query = \"INSERT INTO song_listeners (song_title, user_id, user_firstname, user_lastname) \"\n",
    "        query = query + \"VALUES(%s, %s, %s, %s);\"\n",
    "        session.execute(query, (line[9], int(line[10]), line[1], line[4]))"
   ]
  },
  {
   "cell_type": "markdown",
   "metadata": {},
   "source": [
    "#### Do a SELECT to verify that the data have been inserted into each table"
   ]
  },
  {
   "cell_type": "code",
   "execution_count": 20,
   "metadata": {},
   "outputs": [
    {
     "name": "stdout",
     "output_type": "stream",
     "text": [
      "Jacqueline Lynch\n",
      "Tegan Levine\n",
      "Sara Johnson\n"
     ]
    }
   ],
   "source": [
    "try:\n",
    "    rows = session.execute(\"\"\"\n",
    "    SELECT \n",
    "    user_firstname,\n",
    "    user_lastname\n",
    "    FROM song_listeners\n",
    "    WHERE song_title='All Hands Against His Own';\"\"\")\n",
    "    \n",
    "except Exception as e:\n",
    "    print(e)\n",
    "    \n",
    "for row in rows:\n",
    "    print(row.user_firstname, row.user_lastname)"
   ]
  },
  {
   "cell_type": "markdown",
   "metadata": {},
   "source": [
    "## Additional Query\n",
    "Give me every user name (order by item_in_session DESC) in my music app history who listened to the song 'All Hands Against His Own'\n"
   ]
  },
  {
   "cell_type": "markdown",
   "metadata": {},
   "source": [
    "#### Create table"
   ]
  },
  {
   "cell_type": "code",
   "execution_count": 21,
   "metadata": {},
   "outputs": [],
   "source": [
    "try:\n",
    "    session.execute(\"\"\"\n",
    "    CREATE TABLE IF NOT EXISTS song_listeners2 (\n",
    "    song_title TEXT, \n",
    "    user_id INT,\n",
    "    user_firstname TEXT,\n",
    "    user_lastname TEXT,\n",
    "    PRIMARY KEY(song_title, user_id))\n",
    "    WITH CLUSTERING ORDER BY (user_id DESC);\n",
    "    \"\"\")\n",
    "except Exception as e:\n",
    "    print(e)\n"
   ]
  },
  {
   "cell_type": "markdown",
   "metadata": {},
   "source": [
    "#### Insert data"
   ]
  },
  {
   "cell_type": "code",
   "execution_count": 22,
   "metadata": {},
   "outputs": [],
   "source": [
    "file = 'event_datafile_new.csv'\n",
    "\n",
    "with open(file, encoding = 'utf8') as f:\n",
    "    csvreader = csv.reader(f)\n",
    "    next(csvreader) # skip header\n",
    "    for line in csvreader:\n",
    "        query = \"INSERT INTO song_listeners2 (song_title, user_id, user_firstname, user_lastname) \"\n",
    "        query = query + \"VALUES(%s, %s, %s, %s);\"\n",
    "        session.execute(query, (line[9], int(line[10]), line[1], line[4]))"
   ]
  },
  {
   "cell_type": "markdown",
   "metadata": {},
   "source": [
    "#### Do a SELECT to verify that the data have been inserted into each table"
   ]
  },
  {
   "cell_type": "code",
   "execution_count": 23,
   "metadata": {},
   "outputs": [
    {
     "name": "stdout",
     "output_type": "stream",
     "text": [
      "Sara Johnson\n",
      "Tegan Levine\n",
      "Jacqueline Lynch\n"
     ]
    }
   ],
   "source": [
    "try:\n",
    "    rows = session.execute(\"\"\"\n",
    "    SELECT \n",
    "    user_firstname,\n",
    "    user_lastname\n",
    "    FROM song_listeners2\n",
    "    WHERE song_title='All Hands Against His Own';\"\"\")\n",
    "    \n",
    "except Exception as e:\n",
    "    print(e)\n",
    "    \n",
    "for row in rows:\n",
    "    print(row.user_firstname, row.user_lastname)"
   ]
  },
  {
   "cell_type": "markdown",
   "metadata": {},
   "source": [
    "### Drop the tables before closing out the sessions"
   ]
  },
  {
   "cell_type": "code",
   "execution_count": 24,
   "metadata": {},
   "outputs": [],
   "source": [
    "try:\n",
    "    session.execute(\"\"\"\n",
    "    DROP TABLE IF EXISTS song_playlist;\n",
    "    \"\"\")\n",
    "    \n",
    "except Exception as e:\n",
    "    print(e)"
   ]
  },
  {
   "cell_type": "code",
   "execution_count": 25,
   "metadata": {},
   "outputs": [],
   "source": [
    "try:\n",
    "    session.execute(\"\"\"\n",
    "    DROP TABLE IF EXISTS user_playlist;\n",
    "    \"\"\")\n",
    "    \n",
    "except Exception as e:\n",
    "    print(e)"
   ]
  },
  {
   "cell_type": "code",
   "execution_count": 26,
   "metadata": {},
   "outputs": [],
   "source": [
    "try:\n",
    "    session.execute(\"\"\"\n",
    "    DROP TABLE IF EXISTS song_listeners;\n",
    "    \"\"\")\n",
    "    \n",
    "except Exception as e:\n",
    "    print(e)"
   ]
  },
  {
   "cell_type": "code",
   "execution_count": 27,
   "metadata": {},
   "outputs": [],
   "source": [
    "try:\n",
    "    session.execute(\"\"\"\n",
    "    DROP TABLE IF EXISTS song_listeners2;\n",
    "    \"\"\")\n",
    "    \n",
    "except Exception as e:\n",
    "    print(e)"
   ]
  },
  {
   "cell_type": "markdown",
   "metadata": {},
   "source": [
    "### Close the session and cluster connection¶"
   ]
  },
  {
   "cell_type": "code",
   "execution_count": 28,
   "metadata": {},
   "outputs": [],
   "source": [
    "session.shutdown()\n",
    "cluster.shutdown()"
   ]
  },
  {
   "cell_type": "code",
   "execution_count": null,
   "metadata": {},
   "outputs": [],
   "source": []
  }
 ],
 "metadata": {
  "kernelspec": {
   "display_name": "Python 3",
   "language": "python",
   "name": "python3"
  },
  "language_info": {
   "codemirror_mode": {
    "name": "ipython",
    "version": 3
   },
   "file_extension": ".py",
   "mimetype": "text/x-python",
   "name": "python",
   "nbconvert_exporter": "python",
   "pygments_lexer": "ipython3",
   "version": "3.8.8"
  }
 },
 "nbformat": 4,
 "nbformat_minor": 4
}
